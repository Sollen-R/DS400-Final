{
 "cells": [
  {
   "cell_type": "code",
   "execution_count": 1,
   "id": "ce9d5484",
   "metadata": {},
   "outputs": [],
   "source": [
    "import numpy as np\n",
    "import pandas as pd"
   ]
  },
  {
   "cell_type": "code",
   "execution_count": 2,
   "id": "18e4c23d",
   "metadata": {},
   "outputs": [],
   "source": [
    "file = 'C:\\\\Users\\\\reill\\\\Downloads\\\\Traffic_Crashes_-_Crashes.csv'\n",
    "df = pd.DataFrame(pd.read_csv(file))"
   ]
  },
  {
   "cell_type": "code",
   "execution_count": 3,
   "id": "7adfbcb7",
   "metadata": {},
   "outputs": [],
   "source": [
    "#Drop high NaN count columns\n",
    "dropcols = []\n",
    "for col in df:\n",
    "    if (df[col].isna().sum() / len(df[col])) > 0.6:\n",
    "        dropcols.append(col)\n",
    "df.drop(dropcols, axis='columns', inplace=True)\n",
    "\n",
    "#Drop unnecessary columns\n",
    "df.drop(['CRASH_RECORD_ID', 'REPORT_TYPE', 'DATE_POLICE_NOTIFIED', 'LOCATION', 'CRASH_DATE'], axis='columns', inplace=True)\n",
    "df.replace('UNKNOWN', np.nan, inplace=True)\n",
    "\n",
    "df = df.dropna(axis='index').reset_index(drop=True)"
   ]
  },
  {
   "cell_type": "code",
   "execution_count": 4,
   "id": "b3f2f80e",
   "metadata": {},
   "outputs": [],
   "source": [
    "categorical = ['TRAFFIC_CONTROL_DEVICE',\n",
    "       'DEVICE_CONDITION', 'WEATHER_CONDITION', 'LIGHTING_CONDITION',\n",
    "       'FIRST_CRASH_TYPE', 'TRAFFICWAY_TYPE', 'ALIGNMENT',\n",
    "       'ROADWAY_SURFACE_COND', 'ROAD_DEFECT', 'CRASH_TYPE', 'DAMAGE', 'PRIM_CONTRIBUTORY_CAUSE',\n",
    "       'SEC_CONTRIBUTORY_CAUSE', 'MOST_SEVERE_INJURY']\n",
    "#Removed street name and direction"
   ]
  },
  {
   "cell_type": "code",
   "execution_count": 5,
   "id": "7330fbc7",
   "metadata": {},
   "outputs": [],
   "source": [
    "numerical = ['POSTED_SPEED_LIMIT', 'STREET_NO', 'BEAT_OF_OCCURRENCE', 'NUM_UNITS', 'CRASH_HOUR',\n",
    "       'CRASH_DAY_OF_WEEK', 'CRASH_MONTH', 'LATITUDE', 'LONGITUDE']\n",
    "\n",
    "#This leaves out the datetime column"
   ]
  },
  {
   "cell_type": "code",
   "execution_count": 6,
   "id": "4925db8b",
   "metadata": {},
   "outputs": [],
   "source": [
    "nonfatal = df[df['INJURIES_FATAL'] == 0.0]\n",
    "hasfatal = df[df['INJURIES_FATAL'] != 0.0]"
   ]
  },
  {
   "cell_type": "code",
   "execution_count": 7,
   "id": "48b115bb",
   "metadata": {},
   "outputs": [],
   "source": [
    "from sklearn.utils import resample\n",
    "\n",
    "nonfatal_down = resample(nonfatal, replace=False, n_samples=1000)"
   ]
  },
  {
   "cell_type": "code",
   "execution_count": 8,
   "id": "e1a99124",
   "metadata": {},
   "outputs": [],
   "source": [
    "down_df = pd.concat([nonfatal_down, hasfatal])"
   ]
  },
  {
   "cell_type": "code",
   "execution_count": 26,
   "id": "2040438d",
   "metadata": {},
   "outputs": [],
   "source": [
    "down_df = pd.concat([down_df[down_df['INJURIES_FATAL']>2], down_df]).drop_duplicates(keep=False)"
   ]
  },
  {
   "cell_type": "code",
   "execution_count": 27,
   "id": "567166b8",
   "metadata": {
    "scrolled": false
   },
   "outputs": [
    {
     "data": {
      "text/html": [
       "<div>\n",
       "<style scoped>\n",
       "    .dataframe tbody tr th:only-of-type {\n",
       "        vertical-align: middle;\n",
       "    }\n",
       "\n",
       "    .dataframe tbody tr th {\n",
       "        vertical-align: top;\n",
       "    }\n",
       "\n",
       "    .dataframe thead th {\n",
       "        text-align: right;\n",
       "    }\n",
       "</style>\n",
       "<table border=\"1\" class=\"dataframe\">\n",
       "  <thead>\n",
       "    <tr style=\"text-align: right;\">\n",
       "      <th></th>\n",
       "      <th>POSTED_SPEED_LIMIT</th>\n",
       "      <th>TRAFFIC_CONTROL_DEVICE</th>\n",
       "      <th>DEVICE_CONDITION</th>\n",
       "      <th>WEATHER_CONDITION</th>\n",
       "      <th>LIGHTING_CONDITION</th>\n",
       "      <th>FIRST_CRASH_TYPE</th>\n",
       "      <th>TRAFFICWAY_TYPE</th>\n",
       "      <th>ALIGNMENT</th>\n",
       "      <th>ROADWAY_SURFACE_COND</th>\n",
       "      <th>ROAD_DEFECT</th>\n",
       "      <th>...</th>\n",
       "      <th>INJURIES_INCAPACITATING</th>\n",
       "      <th>INJURIES_NON_INCAPACITATING</th>\n",
       "      <th>INJURIES_REPORTED_NOT_EVIDENT</th>\n",
       "      <th>INJURIES_NO_INDICATION</th>\n",
       "      <th>INJURIES_UNKNOWN</th>\n",
       "      <th>CRASH_HOUR</th>\n",
       "      <th>CRASH_DAY_OF_WEEK</th>\n",
       "      <th>CRASH_MONTH</th>\n",
       "      <th>LATITUDE</th>\n",
       "      <th>LONGITUDE</th>\n",
       "    </tr>\n",
       "  </thead>\n",
       "  <tbody>\n",
       "    <tr>\n",
       "      <th>91300</th>\n",
       "      <td>0.158237</td>\n",
       "      <td>NO CONTROLS</td>\n",
       "      <td>NO CONTROLS</td>\n",
       "      <td>CLEAR</td>\n",
       "      <td>DAYLIGHT</td>\n",
       "      <td>PARKED MOTOR VEHICLE</td>\n",
       "      <td>ONE-WAY</td>\n",
       "      <td>STRAIGHT AND LEVEL</td>\n",
       "      <td>DRY</td>\n",
       "      <td>NO DEFECTS</td>\n",
       "      <td>...</td>\n",
       "      <td>0.0</td>\n",
       "      <td>0.0</td>\n",
       "      <td>0.0</td>\n",
       "      <td>2.0</td>\n",
       "      <td>0.0</td>\n",
       "      <td>-0.079263</td>\n",
       "      <td>0.441634</td>\n",
       "      <td>-1.466203</td>\n",
       "      <td>0.147287</td>\n",
       "      <td>-0.586048</td>\n",
       "    </tr>\n",
       "    <tr>\n",
       "      <th>416537</th>\n",
       "      <td>0.158237</td>\n",
       "      <td>NO CONTROLS</td>\n",
       "      <td>NO CONTROLS</td>\n",
       "      <td>CLEAR</td>\n",
       "      <td>DARKNESS, LIGHTED ROAD</td>\n",
       "      <td>FIXED OBJECT</td>\n",
       "      <td>DIVIDED - W/MEDIAN BARRIER</td>\n",
       "      <td>STRAIGHT AND LEVEL</td>\n",
       "      <td>DRY</td>\n",
       "      <td>NO DEFECTS</td>\n",
       "      <td>...</td>\n",
       "      <td>0.0</td>\n",
       "      <td>0.0</td>\n",
       "      <td>0.0</td>\n",
       "      <td>1.0</td>\n",
       "      <td>0.0</td>\n",
       "      <td>1.575488</td>\n",
       "      <td>0.441634</td>\n",
       "      <td>-0.568635</td>\n",
       "      <td>1.434450</td>\n",
       "      <td>-1.162902</td>\n",
       "    </tr>\n",
       "    <tr>\n",
       "      <th>536255</th>\n",
       "      <td>0.158237</td>\n",
       "      <td>NO CONTROLS</td>\n",
       "      <td>NO CONTROLS</td>\n",
       "      <td>CLEAR</td>\n",
       "      <td>DARKNESS, LIGHTED ROAD</td>\n",
       "      <td>REAR END</td>\n",
       "      <td>NOT DIVIDED</td>\n",
       "      <td>STRAIGHT AND LEVEL</td>\n",
       "      <td>DRY</td>\n",
       "      <td>NO DEFECTS</td>\n",
       "      <td>...</td>\n",
       "      <td>0.0</td>\n",
       "      <td>0.0</td>\n",
       "      <td>0.0</td>\n",
       "      <td>2.0</td>\n",
       "      <td>0.0</td>\n",
       "      <td>1.124192</td>\n",
       "      <td>0.936843</td>\n",
       "      <td>-1.466203</td>\n",
       "      <td>-1.528532</td>\n",
       "      <td>0.108236</td>\n",
       "    </tr>\n",
       "    <tr>\n",
       "      <th>413203</th>\n",
       "      <td>0.158237</td>\n",
       "      <td>TRAFFIC SIGNAL</td>\n",
       "      <td>FUNCTIONING PROPERLY</td>\n",
       "      <td>CLEAR</td>\n",
       "      <td>DAYLIGHT</td>\n",
       "      <td>REAR END</td>\n",
       "      <td>NOT DIVIDED</td>\n",
       "      <td>STRAIGHT AND LEVEL</td>\n",
       "      <td>DRY</td>\n",
       "      <td>NO DEFECTS</td>\n",
       "      <td>...</td>\n",
       "      <td>0.0</td>\n",
       "      <td>0.0</td>\n",
       "      <td>0.0</td>\n",
       "      <td>2.0</td>\n",
       "      <td>0.0</td>\n",
       "      <td>0.071169</td>\n",
       "      <td>-1.043994</td>\n",
       "      <td>0.628123</td>\n",
       "      <td>1.279079</td>\n",
       "      <td>0.350411</td>\n",
       "    </tr>\n",
       "    <tr>\n",
       "      <th>422069</th>\n",
       "      <td>-2.538631</td>\n",
       "      <td>NO CONTROLS</td>\n",
       "      <td>NO CONTROLS</td>\n",
       "      <td>CLEAR</td>\n",
       "      <td>DAYLIGHT</td>\n",
       "      <td>REAR END</td>\n",
       "      <td>ALLEY</td>\n",
       "      <td>STRAIGHT AND LEVEL</td>\n",
       "      <td>DRY</td>\n",
       "      <td>NO DEFECTS</td>\n",
       "      <td>...</td>\n",
       "      <td>0.0</td>\n",
       "      <td>0.0</td>\n",
       "      <td>0.0</td>\n",
       "      <td>2.0</td>\n",
       "      <td>0.0</td>\n",
       "      <td>0.372033</td>\n",
       "      <td>1.432052</td>\n",
       "      <td>0.328933</td>\n",
       "      <td>0.783239</td>\n",
       "      <td>-0.495152</td>\n",
       "    </tr>\n",
       "  </tbody>\n",
       "</table>\n",
       "<p>5 rows × 32 columns</p>\n",
       "</div>"
      ],
      "text/plain": [
       "        POSTED_SPEED_LIMIT TRAFFIC_CONTROL_DEVICE      DEVICE_CONDITION  \\\n",
       "91300             0.158237            NO CONTROLS           NO CONTROLS   \n",
       "416537            0.158237            NO CONTROLS           NO CONTROLS   \n",
       "536255            0.158237            NO CONTROLS           NO CONTROLS   \n",
       "413203            0.158237         TRAFFIC SIGNAL  FUNCTIONING PROPERLY   \n",
       "422069           -2.538631            NO CONTROLS           NO CONTROLS   \n",
       "\n",
       "       WEATHER_CONDITION      LIGHTING_CONDITION      FIRST_CRASH_TYPE  \\\n",
       "91300              CLEAR                DAYLIGHT  PARKED MOTOR VEHICLE   \n",
       "416537             CLEAR  DARKNESS, LIGHTED ROAD          FIXED OBJECT   \n",
       "536255             CLEAR  DARKNESS, LIGHTED ROAD              REAR END   \n",
       "413203             CLEAR                DAYLIGHT              REAR END   \n",
       "422069             CLEAR                DAYLIGHT              REAR END   \n",
       "\n",
       "                   TRAFFICWAY_TYPE           ALIGNMENT ROADWAY_SURFACE_COND  \\\n",
       "91300                      ONE-WAY  STRAIGHT AND LEVEL                  DRY   \n",
       "416537  DIVIDED - W/MEDIAN BARRIER  STRAIGHT AND LEVEL                  DRY   \n",
       "536255                 NOT DIVIDED  STRAIGHT AND LEVEL                  DRY   \n",
       "413203                 NOT DIVIDED  STRAIGHT AND LEVEL                  DRY   \n",
       "422069                       ALLEY  STRAIGHT AND LEVEL                  DRY   \n",
       "\n",
       "       ROAD_DEFECT  ... INJURIES_INCAPACITATING INJURIES_NON_INCAPACITATING  \\\n",
       "91300   NO DEFECTS  ...                     0.0                         0.0   \n",
       "416537  NO DEFECTS  ...                     0.0                         0.0   \n",
       "536255  NO DEFECTS  ...                     0.0                         0.0   \n",
       "413203  NO DEFECTS  ...                     0.0                         0.0   \n",
       "422069  NO DEFECTS  ...                     0.0                         0.0   \n",
       "\n",
       "       INJURIES_REPORTED_NOT_EVIDENT INJURIES_NO_INDICATION  INJURIES_UNKNOWN  \\\n",
       "91300                            0.0                    2.0               0.0   \n",
       "416537                           0.0                    1.0               0.0   \n",
       "536255                           0.0                    2.0               0.0   \n",
       "413203                           0.0                    2.0               0.0   \n",
       "422069                           0.0                    2.0               0.0   \n",
       "\n",
       "       CRASH_HOUR CRASH_DAY_OF_WEEK  CRASH_MONTH  LATITUDE LONGITUDE  \n",
       "91300   -0.079263          0.441634    -1.466203  0.147287 -0.586048  \n",
       "416537   1.575488          0.441634    -0.568635  1.434450 -1.162902  \n",
       "536255   1.124192          0.936843    -1.466203 -1.528532  0.108236  \n",
       "413203   0.071169         -1.043994     0.628123  1.279079  0.350411  \n",
       "422069   0.372033          1.432052     0.328933  0.783239 -0.495152  \n",
       "\n",
       "[5 rows x 32 columns]"
      ]
     },
     "execution_count": 27,
     "metadata": {},
     "output_type": "execute_result"
    }
   ],
   "source": [
    "from sklearn.preprocessing import StandardScaler\n",
    "scaler = StandardScaler()\n",
    "scaled_df = down_df\n",
    "scaled_df[numerical] = scaler.fit_transform(scaled_df[numerical])\n",
    "scaled_df.head()"
   ]
  },
  {
   "cell_type": "code",
   "execution_count": 28,
   "id": "5c2926ca",
   "metadata": {},
   "outputs": [],
   "source": [
    "scaled_df = pd.get_dummies(scaled_df)"
   ]
  },
  {
   "cell_type": "code",
   "execution_count": 11,
   "id": "f65f7a3a",
   "metadata": {},
   "outputs": [],
   "source": [
    "from sklearn.model_selection import train_test_split\n",
    "from sklearn.ensemble import RandomForestClassifier"
   ]
  },
  {
   "cell_type": "code",
   "execution_count": 29,
   "id": "838dc074",
   "metadata": {},
   "outputs": [],
   "source": [
    "x = scaled_df.drop(['INJURIES_TOTAL', 'INJURIES_FATAL',\n",
    "       'INJURIES_INCAPACITATING', 'INJURIES_NON_INCAPACITATING',\n",
    "       'INJURIES_REPORTED_NOT_EVIDENT', 'INJURIES_NO_INDICATION',\n",
    "       'INJURIES_UNKNOWN'], axis='columns')\n",
    "y = scaled_df['INJURIES_FATAL']\n",
    "\n",
    "x_train, x_test, y_train, y_test = train_test_split(x, y, test_size=0.2)"
   ]
  },
  {
   "cell_type": "code",
   "execution_count": 30,
   "id": "dab59d14",
   "metadata": {
    "scrolled": true
   },
   "outputs": [
    {
     "name": "stdout",
     "output_type": "stream",
     "text": [
      "[[198   0   0]\n",
      " [  0 135   0]\n",
      " [  0   9   0]]\n",
      "0.9609507640067911\n"
     ]
    }
   ],
   "source": [
    "from sklearn.metrics import confusion_matrix, f1_score\n",
    "\n",
    "forest_fatal = RandomForestClassifier(n_jobs=16)\n",
    "forest_fatal.fit(x_train, y_train)\n",
    "\n",
    "y_pred = forest_fatal.predict(x_test)\n",
    "print(confusion_matrix(y_test, y_pred))\n",
    "print(f1_score(y_test, y_pred, average='weighted'))"
   ]
  },
  {
   "cell_type": "code",
   "execution_count": 33,
   "id": "b0012013",
   "metadata": {
    "scrolled": true
   },
   "outputs": [
    {
     "data": {
      "text/html": [
       "<style>#sk-container-id-2 {color: black;background-color: white;}#sk-container-id-2 pre{padding: 0;}#sk-container-id-2 div.sk-toggleable {background-color: white;}#sk-container-id-2 label.sk-toggleable__label {cursor: pointer;display: block;width: 100%;margin-bottom: 0;padding: 0.3em;box-sizing: border-box;text-align: center;}#sk-container-id-2 label.sk-toggleable__label-arrow:before {content: \"▸\";float: left;margin-right: 0.25em;color: #696969;}#sk-container-id-2 label.sk-toggleable__label-arrow:hover:before {color: black;}#sk-container-id-2 div.sk-estimator:hover label.sk-toggleable__label-arrow:before {color: black;}#sk-container-id-2 div.sk-toggleable__content {max-height: 0;max-width: 0;overflow: hidden;text-align: left;background-color: #f0f8ff;}#sk-container-id-2 div.sk-toggleable__content pre {margin: 0.2em;color: black;border-radius: 0.25em;background-color: #f0f8ff;}#sk-container-id-2 input.sk-toggleable__control:checked~div.sk-toggleable__content {max-height: 200px;max-width: 100%;overflow: auto;}#sk-container-id-2 input.sk-toggleable__control:checked~label.sk-toggleable__label-arrow:before {content: \"▾\";}#sk-container-id-2 div.sk-estimator input.sk-toggleable__control:checked~label.sk-toggleable__label {background-color: #d4ebff;}#sk-container-id-2 div.sk-label input.sk-toggleable__control:checked~label.sk-toggleable__label {background-color: #d4ebff;}#sk-container-id-2 input.sk-hidden--visually {border: 0;clip: rect(1px 1px 1px 1px);clip: rect(1px, 1px, 1px, 1px);height: 1px;margin: -1px;overflow: hidden;padding: 0;position: absolute;width: 1px;}#sk-container-id-2 div.sk-estimator {font-family: monospace;background-color: #f0f8ff;border: 1px dotted black;border-radius: 0.25em;box-sizing: border-box;margin-bottom: 0.5em;}#sk-container-id-2 div.sk-estimator:hover {background-color: #d4ebff;}#sk-container-id-2 div.sk-parallel-item::after {content: \"\";width: 100%;border-bottom: 1px solid gray;flex-grow: 1;}#sk-container-id-2 div.sk-label:hover label.sk-toggleable__label {background-color: #d4ebff;}#sk-container-id-2 div.sk-serial::before {content: \"\";position: absolute;border-left: 1px solid gray;box-sizing: border-box;top: 0;bottom: 0;left: 50%;z-index: 0;}#sk-container-id-2 div.sk-serial {display: flex;flex-direction: column;align-items: center;background-color: white;padding-right: 0.2em;padding-left: 0.2em;position: relative;}#sk-container-id-2 div.sk-item {position: relative;z-index: 1;}#sk-container-id-2 div.sk-parallel {display: flex;align-items: stretch;justify-content: center;background-color: white;position: relative;}#sk-container-id-2 div.sk-item::before, #sk-container-id-2 div.sk-parallel-item::before {content: \"\";position: absolute;border-left: 1px solid gray;box-sizing: border-box;top: 0;bottom: 0;left: 50%;z-index: -1;}#sk-container-id-2 div.sk-parallel-item {display: flex;flex-direction: column;z-index: 1;position: relative;background-color: white;}#sk-container-id-2 div.sk-parallel-item:first-child::after {align-self: flex-end;width: 50%;}#sk-container-id-2 div.sk-parallel-item:last-child::after {align-self: flex-start;width: 50%;}#sk-container-id-2 div.sk-parallel-item:only-child::after {width: 0;}#sk-container-id-2 div.sk-dashed-wrapped {border: 1px dashed gray;margin: 0 0.4em 0.5em 0.4em;box-sizing: border-box;padding-bottom: 0.4em;background-color: white;}#sk-container-id-2 div.sk-label label {font-family: monospace;font-weight: bold;display: inline-block;line-height: 1.2em;}#sk-container-id-2 div.sk-label-container {text-align: center;}#sk-container-id-2 div.sk-container {/* jupyter's `normalize.less` sets `[hidden] { display: none; }` but bootstrap.min.css set `[hidden] { display: none !important; }` so we also need the `!important` here to be able to override the default hidden behavior on the sphinx rendered scikit-learn.org. See: https://github.com/scikit-learn/scikit-learn/issues/21755 */display: inline-block !important;position: relative;}#sk-container-id-2 div.sk-text-repr-fallback {display: none;}</style><div id=\"sk-container-id-2\" class=\"sk-top-container\"><div class=\"sk-text-repr-fallback\"><pre>GridSearchCV(estimator=RandomForestClassifier(), n_jobs=16,\n",
       "             param_grid={&#x27;max_depth&#x27;: [1, 2, 4, None],\n",
       "                         &#x27;n_estimators&#x27;: [50, 100, 200, 400, 600]},\n",
       "             scoring=&#x27;f1_weighted&#x27;)</pre><b>In a Jupyter environment, please rerun this cell to show the HTML representation or trust the notebook. <br />On GitHub, the HTML representation is unable to render, please try loading this page with nbviewer.org.</b></div><div class=\"sk-container\" hidden><div class=\"sk-item sk-dashed-wrapped\"><div class=\"sk-label-container\"><div class=\"sk-label sk-toggleable\"><input class=\"sk-toggleable__control sk-hidden--visually\" id=\"sk-estimator-id-4\" type=\"checkbox\" ><label for=\"sk-estimator-id-4\" class=\"sk-toggleable__label sk-toggleable__label-arrow\">GridSearchCV</label><div class=\"sk-toggleable__content\"><pre>GridSearchCV(estimator=RandomForestClassifier(), n_jobs=16,\n",
       "             param_grid={&#x27;max_depth&#x27;: [1, 2, 4, None],\n",
       "                         &#x27;n_estimators&#x27;: [50, 100, 200, 400, 600]},\n",
       "             scoring=&#x27;f1_weighted&#x27;)</pre></div></div></div><div class=\"sk-parallel\"><div class=\"sk-parallel-item\"><div class=\"sk-item\"><div class=\"sk-label-container\"><div class=\"sk-label sk-toggleable\"><input class=\"sk-toggleable__control sk-hidden--visually\" id=\"sk-estimator-id-5\" type=\"checkbox\" ><label for=\"sk-estimator-id-5\" class=\"sk-toggleable__label sk-toggleable__label-arrow\">estimator: RandomForestClassifier</label><div class=\"sk-toggleable__content\"><pre>RandomForestClassifier()</pre></div></div></div><div class=\"sk-serial\"><div class=\"sk-item\"><div class=\"sk-estimator sk-toggleable\"><input class=\"sk-toggleable__control sk-hidden--visually\" id=\"sk-estimator-id-6\" type=\"checkbox\" ><label for=\"sk-estimator-id-6\" class=\"sk-toggleable__label sk-toggleable__label-arrow\">RandomForestClassifier</label><div class=\"sk-toggleable__content\"><pre>RandomForestClassifier()</pre></div></div></div></div></div></div></div></div></div></div>"
      ],
      "text/plain": [
       "GridSearchCV(estimator=RandomForestClassifier(), n_jobs=16,\n",
       "             param_grid={'max_depth': [1, 2, 4, None],\n",
       "                         'n_estimators': [50, 100, 200, 400, 600]},\n",
       "             scoring='f1_weighted')"
      ]
     },
     "execution_count": 33,
     "metadata": {},
     "output_type": "execute_result"
    }
   ],
   "source": [
    "from sklearn.model_selection import GridSearchCV\n",
    "rf = RandomForestClassifier()\n",
    "cross = GridSearchCV(rf, {'n_estimators':[50, 100, 200, 400, 600],\n",
    "                          'max_depth':[1, 2, 4, None]}, scoring='f1_weighted', n_jobs=16)\n",
    "cross.fit(x_train, y_train)"
   ]
  },
  {
   "cell_type": "code",
   "execution_count": 34,
   "id": "7e8815a7",
   "metadata": {},
   "outputs": [
    {
     "name": "stdout",
     "output_type": "stream",
     "text": [
      "RandomForestClassifier(n_estimators=50)\n",
      "0.9631075300898442\n"
     ]
    }
   ],
   "source": [
    "print(cross.best_estimator_)\n",
    "print(cross.best_score_)"
   ]
  },
  {
   "cell_type": "code",
   "execution_count": 35,
   "id": "43a23bd8",
   "metadata": {},
   "outputs": [
    {
     "name": "stdout",
     "output_type": "stream",
     "text": [
      "[[198   0   0]\n",
      " [  0 135   0]\n",
      " [  0   9   0]]\n",
      "0.9609507640067911\n"
     ]
    }
   ],
   "source": [
    "forest_final = RandomForestClassifier(n_estimators=50, n_jobs=16)\n",
    "forest_final.fit(x_train, y_train)\n",
    "\n",
    "y_pred = forest_final.predict(x_test)\n",
    "print(confusion_matrix(y_test, y_pred))\n",
    "print(f1_score(y_test, y_pred, average='weighted'))"
   ]
  },
  {
   "cell_type": "code",
   "execution_count": 47,
   "id": "f88d418d",
   "metadata": {},
   "outputs": [
    {
     "name": "stdout",
     "output_type": "stream",
     "text": [
      "[[613782      0      0      0      0]\n",
      " [    37    630      0      0      0]\n",
      " [     4      9     30      0      0]\n",
      " [     0      3      0      4      0]\n",
      " [     0      0      0      0      1]]\n",
      "0.9999104412450324\n"
     ]
    }
   ],
   "source": [
    "big_test = df\n",
    "big_test[numerical] = scaler.fit_transform(big_test[numerical])\n",
    "big_test = pd.get_dummies(big_test)\n",
    "\n",
    "x = big_test.drop(['INJURIES_TOTAL', 'INJURIES_FATAL',\n",
    "       'INJURIES_INCAPACITATING', 'INJURIES_NON_INCAPACITATING',\n",
    "       'INJURIES_REPORTED_NOT_EVIDENT', 'INJURIES_NO_INDICATION',\n",
    "       'INJURIES_UNKNOWN'], axis='columns')\n",
    "y = big_test['INJURIES_FATAL']\n",
    "\n",
    "x_train, x_test, y_train, y_test = train_test_split(x, y, test_size=0.2)\n",
    "\n",
    "forest_big = RandomForestClassifier(n_estimators=50, n_jobs=16)\n",
    "forest_big.fit(x_train, y_train)\n",
    "\n",
    "y_pred = forest_big.predict(big_test.drop(['INJURIES_TOTAL', 'INJURIES_FATAL',\n",
    "       'INJURIES_INCAPACITATING', 'INJURIES_NON_INCAPACITATING',\n",
    "       'INJURIES_REPORTED_NOT_EVIDENT', 'INJURIES_NO_INDICATION',\n",
    "       'INJURIES_UNKNOWN'], axis='columns'))\n",
    "print(confusion_matrix(big_test['INJURIES_FATAL'], y_pred))\n",
    "print(f1_score(big_test['INJURIES_FATAL'], y_pred, average='weighted'))"
   ]
  },
  {
   "cell_type": "code",
   "execution_count": 48,
   "id": "ab854579",
   "metadata": {},
   "outputs": [
    {
     "data": {
      "text/plain": [
       "array([0.00883861, 0.0288476 , 0.024007  , ..., 0.01223665, 0.01204374,\n",
       "       0.00904311])"
      ]
     },
     "execution_count": 48,
     "metadata": {},
     "output_type": "execute_result"
    }
   ],
   "source": [
    "forest_big.feature_importances_"
   ]
  },
  {
   "cell_type": "code",
   "execution_count": 50,
   "id": "4c0de039",
   "metadata": {},
   "outputs": [],
   "source": [
    "forest_importances = pd.Series(forest_big.feature_importances_, index=x_test.columns)"
   ]
  },
  {
   "cell_type": "code",
   "execution_count": 52,
   "id": "8379dddf",
   "metadata": {},
   "outputs": [
    {
     "data": {
      "text/plain": [
       "MOST_SEVERE_INJURY_FATAL    0.495183\n",
       "LONGITUDE                   0.030971\n",
       "LATITUDE                    0.029000\n",
       "STREET_NO                   0.028848\n",
       "BEAT_OF_OCCURRENCE          0.024007\n",
       "                              ...   \n",
       "STREET_NAME_HAMPDEN CT      0.000000\n",
       "STREET_NAME_HARBOR DR       0.000000\n",
       "STREET_NAME_HARPER CT       0.000000\n",
       "STREET_NAME_HART ST         0.000000\n",
       "STREET_NAME_GARLAND CT      0.000000\n",
       "Length: 1744, dtype: float64"
      ]
     },
     "execution_count": 52,
     "metadata": {},
     "output_type": "execute_result"
    }
   ],
   "source": [
    "forest_importances.sort_values(ascending=False)"
   ]
  },
  {
   "cell_type": "code",
   "execution_count": null,
   "id": "ee132ce6",
   "metadata": {},
   "outputs": [],
   "source": []
  }
 ],
 "metadata": {
  "kernelspec": {
   "display_name": "Python 3 (ipykernel)",
   "language": "python",
   "name": "python3"
  },
  "language_info": {
   "codemirror_mode": {
    "name": "ipython",
    "version": 3
   },
   "file_extension": ".py",
   "mimetype": "text/x-python",
   "name": "python",
   "nbconvert_exporter": "python",
   "pygments_lexer": "ipython3",
   "version": "3.10.9"
  }
 },
 "nbformat": 4,
 "nbformat_minor": 5
}
